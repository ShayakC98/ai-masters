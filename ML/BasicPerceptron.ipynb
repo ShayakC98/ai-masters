{
  "nbformat": 4,
  "nbformat_minor": 0,
  "metadata": {
    "colab": {
      "name": "BasicPerceptron.ipynb",
      "provenance": []
    },
    "kernelspec": {
      "name": "python3",
      "display_name": "Python 3"
    },
    "language_info": {
      "name": "python"
    }
  },
  "cells": [
    {
      "cell_type": "code",
      "metadata": {
        "id": "FPOxMBVCpkIS"
      },
      "source": [
        "import numpy as np\n",
        "import matplotlib.pyplot as plt"
      ],
      "execution_count": 1,
      "outputs": []
    },
    {
      "cell_type": "code",
      "metadata": {
        "id": "-6HUcUjIprI9"
      },
      "source": [
        "class Perceptron:\n",
        "    def __init__(self, lr = 0.001):\n",
        "        self.W = 1\n",
        "        self.b = 0\n",
        "        self.lr = lr\n",
        "\n",
        "    def fit(self, X, y, iterate = 1000):\n",
        "        for i in range(iterate):\n",
        "            errW = ((y - (X*self.W + self.b)) * X.T).sum()\n",
        "            errB = (y - (X*self.W + self.b)).sum()\n",
        "            #errb = (y - (self.b))\n",
        "            self.W = self.W + self.lr*errW\n",
        "            self.b = self.b + self.lr*errB\n",
        "\n",
        "    def predict(self, X):\n",
        "        return X*self.W + self.b\n",
        "        "
      ],
      "execution_count": 2,
      "outputs": []
    },
    {
      "cell_type": "code",
      "metadata": {
        "colab": {
          "base_uri": "https://localhost:8080/"
        },
        "id": "s3C0LmhFtMF4",
        "outputId": "0c8abc0f-ccad-4f4d-880f-32b3d0ffc015"
      },
      "source": [
        "X = np.array([0,1,2,3,4,5])\n",
        "y = np.array([1,3,5,7,9,11])\n",
        "\n",
        "percep1 = Perceptron()\n",
        "percep1.fit(X, y)\n",
        "print(percep1.predict(np.array([10,11,12,13])))"
      ],
      "execution_count": 3,
      "outputs": [
        {
          "output_type": "stream",
          "name": "stdout",
          "text": [
            "[21.20514155 23.23693894 25.26873633 27.30053372]\n"
          ]
        }
      ]
    },
    {
      "cell_type": "code",
      "metadata": {
        "colab": {
          "base_uri": "https://localhost:8080/"
        },
        "id": "9tmbFLdJtSMw",
        "outputId": "458d1ada-36ed-4b39-8be5-653e07efcab2"
      },
      "source": [
        "print(percep1.W, percep1.b)"
      ],
      "execution_count": 4,
      "outputs": [
        {
          "output_type": "stream",
          "name": "stdout",
          "text": [
            "2.0317973873511908 0.8871676814556972\n"
          ]
        }
      ]
    },
    {
      "cell_type": "code",
      "metadata": {
        "colab": {
          "base_uri": "https://localhost:8080/",
          "height": 282
        },
        "id": "fB7WjHuc0uMI",
        "outputId": "445062aa-88ef-4db8-bf4b-de00a3a1c5d0"
      },
      "source": [
        "X = np.array(list(range(50)))\n",
        "y = 2*X + 0.3\n",
        "\n",
        "percep2 = Perceptron(lr = 0.00001)\n",
        "percep2.fit(X, y, 10000)\n",
        "pred = percep2.predict(np.array(X))\n",
        "\n",
        "plt.plot(X, label='X')\n",
        "plt.plot(y, label='true y')\n",
        "plt.plot(pred, label='pred y')\n",
        "plt.legend()\n",
        "plt.show()\n",
        "\n",
        "print(percep2.W, percep2.b)"
      ],
      "execution_count": 5,
      "outputs": [
        {
          "output_type": "display_data",
          "data": {
            "image/png": "[encoded data removed]",
            "text/plain": [
              "<Figure size 432x288 with 1 Axes>"
            ]
          },
          "metadata": {
            "needs_background": "light"
          }
        },
        {
          "output_type": "stream",
          "name": "stdout",
          "text": [
            "2.002255509535695 0.225591876400151\n"
          ]
        }
      ]
    }
  ]
}
